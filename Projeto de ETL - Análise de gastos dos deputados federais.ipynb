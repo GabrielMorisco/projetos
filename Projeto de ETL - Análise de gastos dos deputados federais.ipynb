{
 "cells": [
  {
   "cell_type": "markdown",
   "id": "7ed2eab7",
   "metadata": {},
   "source": [
    "# Projeto ELT - Gastos dos deputados federais"
   ]
  },
  {
   "cell_type": "code",
   "execution_count": 1,
   "id": "7a01f324",
   "metadata": {},
   "outputs": [],
   "source": [
    "import pandas as pd\n",
    "import requests\n",
    "\n",
    "url = \"https://dadosabertos.camara.leg.br/api/v2/deputados?ordem=ASC&ordenarPor=nome\"\n",
    "resultado = requests.get(url)\n",
    "deputados = pd.DataFrame(resultado.json()['dados'])\n",
    "gastos = []\n",
    "for id in deputados.id:\n",
    "    url_despesa= \"https://dadosabertos.camara.leg.br/api/v2/deputados/\"+str(id)+\"/despesas?ordem=ASC&ano=2022\"\n",
    "    resposta = requests.get(url_despesa)\n",
    "    gasto = pd.DataFrame(resposta.json()['dados'])\n",
    "    gasto['id'] = id\n",
    "    gastos.append(gasto)"
   ]
  },
  {
   "cell_type": "markdown",
   "id": "30962278",
   "metadata": {},
   "source": [
    "# TRANSFORMAÇÃO "
   ]
  },
  {
   "cell_type": "code",
   "execution_count": 2,
   "id": "52b7613f",
   "metadata": {},
   "outputs": [],
   "source": [
    "total = pd.concat(gastos)\n",
    "del total['dataDocumento']\n",
    "del total['numRessarcimento']\n",
    "del total['urlDocumento']\n",
    "total.nomeFornecedor = [str(fornecedor).upper().replace(\"S.A.\", \"S.A\").replace(\"S/A\", \"S.A\") for fornecedor in  total.nomeFornecedor]"
   ]
  },
  {
   "cell_type": "markdown",
   "id": "c003a3ba",
   "metadata": {},
   "source": [
    "# CARGA"
   ]
  },
  {
   "cell_type": "code",
   "execution_count": 3,
   "id": "ad14b1ff",
   "metadata": {},
   "outputs": [],
   "source": [
    "from sqlalchemy import create_engine"
   ]
  },
  {
   "cell_type": "code",
   "execution_count": 4,
   "id": "cc356fbf",
   "metadata": {},
   "outputs": [],
   "source": [
    "engine = create_engine('sqlite:///dados_abertos.db')"
   ]
  },
  {
   "cell_type": "code",
   "execution_count": 5,
   "id": "9ac32474",
   "metadata": {},
   "outputs": [
    {
     "data": {
      "text/plain": [
       "513"
      ]
     },
     "execution_count": 5,
     "metadata": {},
     "output_type": "execute_result"
    }
   ],
   "source": [
    "deputados.to_sql('deputados', engine)"
   ]
  },
  {
   "cell_type": "code",
   "execution_count": 6,
   "id": "88763246",
   "metadata": {},
   "outputs": [
    {
     "data": {
      "text/plain": [
       "4185"
      ]
     },
     "execution_count": 6,
     "metadata": {},
     "output_type": "execute_result"
    }
   ],
   "source": [
    "total.to_sql('despesas_total', engine)"
   ]
  },
  {
   "cell_type": "markdown",
   "id": "e734e5e9",
   "metadata": {},
   "source": [
    "# ANÁLISE"
   ]
  },
  {
   "cell_type": "code",
   "execution_count": 9,
   "id": "22f9a393",
   "metadata": {
    "scrolled": true
   },
   "outputs": [],
   "source": [
    "total = pd.read_sql(\"select * from despesas_total;\", engine)"
   ]
  },
  {
   "cell_type": "code",
   "execution_count": 11,
   "id": "0e0d0db1",
   "metadata": {},
   "outputs": [],
   "source": [
    "deputados = pd.read_sql(\"select * from deputados\", engine)"
   ]
  },
  {
   "cell_type": "code",
   "execution_count": 14,
   "id": "44cb794b",
   "metadata": {},
   "outputs": [],
   "source": [
    "total = total.merge(deputados, on=['id'])"
   ]
  },
  {
   "cell_type": "code",
   "execution_count": 16,
   "id": "ec00e208",
   "metadata": {},
   "outputs": [
    {
     "name": "stderr",
     "output_type": "stream",
     "text": [
      "C:\\Users\\Gabriel Morisco\\AppData\\Local\\Temp\\ipykernel_14232\\1638856533.py:1: FutureWarning: The default value of numeric_only in DataFrameGroupBy.sum is deprecated. In a future version, numeric_only will default to False. Either specify numeric_only or select only columns which should be valid for the function.\n",
      "  gastos_deputados = total.groupby(['nome']).sum()[['valorDocumento', 'valorLiquido']]\n"
     ]
    }
   ],
   "source": [
    "gastos_deputados = total.groupby(['nome']).sum()[['valorDocumento', 'valorLiquido']]"
   ]
  },
  {
   "cell_type": "markdown",
   "id": "545bf42e",
   "metadata": {},
   "source": [
    "# DEPUTADOS COM MAIS GASTOS"
   ]
  },
  {
   "cell_type": "code",
   "execution_count": 20,
   "id": "0b5c932a",
   "metadata": {},
   "outputs": [
    {
     "data": {
      "text/html": [
       "<div>\n",
       "<style scoped>\n",
       "    .dataframe tbody tr th:only-of-type {\n",
       "        vertical-align: middle;\n",
       "    }\n",
       "\n",
       "    .dataframe tbody tr th {\n",
       "        vertical-align: top;\n",
       "    }\n",
       "\n",
       "    .dataframe thead th {\n",
       "        text-align: right;\n",
       "    }\n",
       "</style>\n",
       "<table border=\"1\" class=\"dataframe\">\n",
       "  <thead>\n",
       "    <tr style=\"text-align: right;\">\n",
       "      <th></th>\n",
       "      <th>valorDocumento</th>\n",
       "      <th>valorLiquido</th>\n",
       "    </tr>\n",
       "    <tr>\n",
       "      <th>nome</th>\n",
       "      <th></th>\n",
       "      <th></th>\n",
       "    </tr>\n",
       "  </thead>\n",
       "  <tbody>\n",
       "    <tr>\n",
       "      <th>Vicentinho Júnior</th>\n",
       "      <td>399742.93</td>\n",
       "      <td>399493.57</td>\n",
       "    </tr>\n",
       "    <tr>\n",
       "      <th>Gustinho Ribeiro</th>\n",
       "      <td>363013.48</td>\n",
       "      <td>362819.93</td>\n",
       "    </tr>\n",
       "    <tr>\n",
       "      <th>Júnior Mano</th>\n",
       "      <td>245000.00</td>\n",
       "      <td>242268.43</td>\n",
       "    </tr>\n",
       "    <tr>\n",
       "      <th>Silas Câmara</th>\n",
       "      <td>196867.29</td>\n",
       "      <td>196727.49</td>\n",
       "    </tr>\n",
       "    <tr>\n",
       "      <th>Delegado Éder Mauro</th>\n",
       "      <td>167232.45</td>\n",
       "      <td>167232.45</td>\n",
       "    </tr>\n",
       "    <tr>\n",
       "      <th>Pr. Marco Feliciano</th>\n",
       "      <td>149163.54</td>\n",
       "      <td>149163.54</td>\n",
       "    </tr>\n",
       "    <tr>\n",
       "      <th>Giacobo</th>\n",
       "      <td>144840.00</td>\n",
       "      <td>144840.00</td>\n",
       "    </tr>\n",
       "    <tr>\n",
       "      <th>Magda Mofatto</th>\n",
       "      <td>143224.52</td>\n",
       "      <td>143150.44</td>\n",
       "    </tr>\n",
       "    <tr>\n",
       "      <th>Vinicius Gurgel</th>\n",
       "      <td>140880.52</td>\n",
       "      <td>140880.52</td>\n",
       "    </tr>\n",
       "    <tr>\n",
       "      <th>Altineu Côrtes</th>\n",
       "      <td>138511.20</td>\n",
       "      <td>138504.20</td>\n",
       "    </tr>\n",
       "  </tbody>\n",
       "</table>\n",
       "</div>"
      ],
      "text/plain": [
       "                     valorDocumento  valorLiquido\n",
       "nome                                             \n",
       "Vicentinho Júnior         399742.93     399493.57\n",
       "Gustinho Ribeiro          363013.48     362819.93\n",
       "Júnior Mano               245000.00     242268.43\n",
       "Silas Câmara              196867.29     196727.49\n",
       "Delegado Éder Mauro       167232.45     167232.45\n",
       "Pr. Marco Feliciano       149163.54     149163.54\n",
       "Giacobo                   144840.00     144840.00\n",
       "Magda Mofatto             143224.52     143150.44\n",
       "Vinicius Gurgel           140880.52     140880.52\n",
       "Altineu Côrtes            138511.20     138504.20"
      ]
     },
     "execution_count": 20,
     "metadata": {},
     "output_type": "execute_result"
    }
   ],
   "source": [
    "gastos_deputados = gastos_deputados.sort_values('valorDocumento', ascending=False)\n",
    "gastos_deputados.head(10)"
   ]
  },
  {
   "cell_type": "markdown",
   "id": "dc8c6c9b",
   "metadata": {},
   "source": [
    "# DEPUTADOS COM MENOS GASTOS"
   ]
  },
  {
   "cell_type": "code",
   "execution_count": 27,
   "id": "90561749",
   "metadata": {
    "scrolled": false
   },
   "outputs": [
    {
     "data": {
      "text/html": [
       "<div>\n",
       "<style scoped>\n",
       "    .dataframe tbody tr th:only-of-type {\n",
       "        vertical-align: middle;\n",
       "    }\n",
       "\n",
       "    .dataframe tbody tr th {\n",
       "        vertical-align: top;\n",
       "    }\n",
       "\n",
       "    .dataframe thead th {\n",
       "        text-align: right;\n",
       "    }\n",
       "</style>\n",
       "<table border=\"1\" class=\"dataframe\">\n",
       "  <thead>\n",
       "    <tr style=\"text-align: right;\">\n",
       "      <th></th>\n",
       "      <th>valorDocumento</th>\n",
       "      <th>valorLiquido</th>\n",
       "    </tr>\n",
       "    <tr>\n",
       "      <th>nome</th>\n",
       "      <th></th>\n",
       "      <th></th>\n",
       "    </tr>\n",
       "  </thead>\n",
       "  <tbody>\n",
       "    <tr>\n",
       "      <th>José Rocha</th>\n",
       "      <td>1737.92</td>\n",
       "      <td>1737.92</td>\n",
       "    </tr>\n",
       "    <tr>\n",
       "      <th>Nicoletti</th>\n",
       "      <td>1710.55</td>\n",
       "      <td>1710.46</td>\n",
       "    </tr>\n",
       "    <tr>\n",
       "      <th>Alceu Moreira</th>\n",
       "      <td>1673.77</td>\n",
       "      <td>1661.41</td>\n",
       "    </tr>\n",
       "    <tr>\n",
       "      <th>Marcel van Hattem</th>\n",
       "      <td>1634.46</td>\n",
       "      <td>1624.23</td>\n",
       "    </tr>\n",
       "    <tr>\n",
       "      <th>Marcos Aurélio Sampaio</th>\n",
       "      <td>1560.03</td>\n",
       "      <td>1558.50</td>\n",
       "    </tr>\n",
       "    <tr>\n",
       "      <th>Pedro Uczai</th>\n",
       "      <td>1302.90</td>\n",
       "      <td>1301.29</td>\n",
       "    </tr>\n",
       "    <tr>\n",
       "      <th>Sargento Fahur</th>\n",
       "      <td>1193.61</td>\n",
       "      <td>1055.71</td>\n",
       "    </tr>\n",
       "    <tr>\n",
       "      <th>Adriana Ventura</th>\n",
       "      <td>919.81</td>\n",
       "      <td>907.89</td>\n",
       "    </tr>\n",
       "    <tr>\n",
       "      <th>Miguel Lombardi</th>\n",
       "      <td>817.76</td>\n",
       "      <td>816.40</td>\n",
       "    </tr>\n",
       "    <tr>\n",
       "      <th>Helder Salomão</th>\n",
       "      <td>767.43</td>\n",
       "      <td>766.82</td>\n",
       "    </tr>\n",
       "  </tbody>\n",
       "</table>\n",
       "</div>"
      ],
      "text/plain": [
       "                        valorDocumento  valorLiquido\n",
       "nome                                                \n",
       "José Rocha                     1737.92       1737.92\n",
       "Nicoletti                      1710.55       1710.46\n",
       "Alceu Moreira                  1673.77       1661.41\n",
       "Marcel van Hattem              1634.46       1624.23\n",
       "Marcos Aurélio Sampaio         1560.03       1558.50\n",
       "Pedro Uczai                    1302.90       1301.29\n",
       "Sargento Fahur                 1193.61       1055.71\n",
       "Adriana Ventura                 919.81        907.89\n",
       "Miguel Lombardi                 817.76        816.40\n",
       "Helder Salomão                  767.43        766.82"
      ]
     },
     "execution_count": 27,
     "metadata": {},
     "output_type": "execute_result"
    }
   ],
   "source": [
    "gastos_deputados.tail(10)"
   ]
  },
  {
   "cell_type": "markdown",
   "id": "5dd9726c",
   "metadata": {},
   "source": [
    "# PRINCIPAIS FORNECEDORES"
   ]
  },
  {
   "cell_type": "code",
   "execution_count": 28,
   "id": "5b8582c3",
   "metadata": {},
   "outputs": [],
   "source": [
    "%matplotlib inline"
   ]
  },
  {
   "cell_type": "code",
   "execution_count": 29,
   "id": "633ed792",
   "metadata": {},
   "outputs": [
    {
     "data": {
      "text/plain": [
       "<Axes: >"
      ]
     },
     "execution_count": 29,
     "metadata": {},
     "output_type": "execute_result"
    },
    {
     "data": {
      "image/png": "[encoded data removed]",
      "text/plain": [
       "<Figure size 640x480 with 1 Axes>"
      ]
     },
     "metadata": {},
     "output_type": "display_data"
    }
   ],
   "source": [
    "total.nomeFornecedor.value_counts()[:10].plot(kind=\"bar\")"
   ]
  },
  {
   "cell_type": "code",
   "execution_count": null,
   "id": "bc30699a",
   "metadata": {},
   "outputs": [],
   "source": []
  }
 ],
 "metadata": {
  "kernelspec": {
   "display_name": "Python 3 (ipykernel)",
   "language": "python",
   "name": "python3"
  },
  "language_info": {
   "codemirror_mode": {
    "name": "ipython",
    "version": 3
   },
   "file_extension": ".py",
   "mimetype": "text/x-python",
   "name": "python",
   "nbconvert_exporter": "python",
   "pygments_lexer": "ipython3",
   "version": "3.11.3"
  }
 },
 "nbformat": 4,
 "nbformat_minor": 5
}
